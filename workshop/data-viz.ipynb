{
 "cells": [
  {
   "cell_type": "markdown",
   "metadata": {},
   "source": [
    "# Data visualization tutorial #"
   ]
  },
  {
   "cell_type": "code",
   "execution_count": null,
   "metadata": {},
   "outputs": [],
   "source": [
    "import pandas as pd\n",
    "import matplotlib.pyplot as plt\n",
    "import seaborn as sns"
   ]
  },
  {
   "cell_type": "markdown",
   "metadata": {},
   "source": [
    "### Crop Yields Dataset"
   ]
  },
  {
   "cell_type": "markdown",
   "metadata": {},
   "source": [
    "#### Plot quantitative variables"
   ]
  },
  {
   "cell_type": "code",
   "execution_count": null,
   "metadata": {
    "scrolled": true
   },
   "outputs": [],
   "source": [
    "# Reads data\n",
    "crops_all = pd.read_csv('https://raw.githubusercontent.com/rfordatascience/tidytuesday/master/data/2020/2020-09-01/key_crop_yields.csv')\n",
    "# Removes unnecessary rows\n",
    "crops_us = crops_all[crops_all['Entity'] == 'United States']\n",
    "crops = crops_us.iloc[:,[2,3,4]]\n",
    "# Processes dataset\n",
    "crops = crops.rename(columns={'Wheat (tonnes per hectare)':'Wheat', 'Rice (tonnes per hectare)':'Rice'})\n",
    "crops.head()"
   ]
  },
  {
   "cell_type": "markdown",
   "metadata": {},
   "source": [
    "**Description of dataset**: Crop yield in the USA\n",
    "\n",
    "- Year: Year\n",
    "- Wheat: Tonnes per hectare of wheat harvested\n",
    "- Rice: Tonnes per hectare of rice harvested in a given country and year"
   ]
  },
  {
   "cell_type": "markdown",
   "metadata": {},
   "source": [
    "Which variables are quantitative? What types of plots correspond with quantitative variables?"
   ]
  },
  {
   "cell_type": "code",
   "execution_count": null,
   "metadata": {},
   "outputs": [],
   "source": [
    "### TODO: Fill in the following code cell wherever you see an ellipsis (...)\n",
    "values = crops[...] # Wheat values\n",
    "ax = sns.distplot(values, kde=False, rug=False) # play with the kde and rug arguments!"
   ]
  },
  {
   "cell_type": "code",
   "execution_count": null,
   "metadata": {
    "scrolled": true
   },
   "outputs": [],
   "source": [
    "ax = sns.boxplot(x=..., data=...); # TODO: boxplot"
   ]
  },
  {
   "cell_type": "code",
   "execution_count": null,
   "metadata": {},
   "outputs": [],
   "source": [
    "ax = sns.violinplot(x=..., data=...); # TODO: violinplot"
   ]
  },
  {
   "cell_type": "markdown",
   "metadata": {},
   "source": [
    "Okay, now let's try something more insightful. Try visualizing the change in the wheat yield over time."
   ]
  },
  {
   "cell_type": "code",
   "execution_count": null,
   "metadata": {},
   "outputs": [],
   "source": [
    "### TODO\n",
    "ax = sns.scatterplot(x=..., y=..., data=crops);"
   ]
  },
  {
   "cell_type": "markdown",
   "metadata": {},
   "source": [
    "What conclusions can you draw from this scatterplot?"
   ]
  },
  {
   "cell_type": "markdown",
   "metadata": {},
   "source": [
    "Seems like there's a pretty clear trend. Now let's add a lineplot too."
   ]
  },
  {
   "cell_type": "code",
   "execution_count": null,
   "metadata": {},
   "outputs": [],
   "source": [
    "### TODO\n",
    "ax = ... # scatterplot\n",
    "ax = sns.lineplot(x=..., y=..., data=crops);"
   ]
  },
  {
   "cell_type": "markdown",
   "metadata": {},
   "source": [
    "Look at that! Our first visualization!"
   ]
  },
  {
   "cell_type": "markdown",
   "metadata": {},
   "source": [
    "Now let's explore the differences between Wheat and Rice."
   ]
  },
  {
   "cell_type": "markdown",
   "metadata": {},
   "source": [
    "**Try-it-yourself!**\n",
    "\n",
    "Pick a type of plot which would effectively visualize the distribution of rice."
   ]
  },
  {
   "cell_type": "code",
   "execution_count": null,
   "metadata": {},
   "outputs": [],
   "source": [
    "# TODO: distribution of rice\n",
    "ax = ... "
   ]
  },
  {
   "cell_type": "code",
   "execution_count": null,
   "metadata": {},
   "outputs": [],
   "source": [
    "### TODO\n",
    "ax = ... # scatterplot of Rice\n",
    "ax = ... # lineplot of Rice"
   ]
  },
  {
   "cell_type": "markdown",
   "metadata": {},
   "source": [
    "This is useful, but it's annoying to scroll. Let's merge the visualizations together."
   ]
  },
  {
   "cell_type": "code",
   "execution_count": null,
   "metadata": {},
   "outputs": [],
   "source": [
    "### TODO\n",
    "sns.scatterplot(x='Year', y=..., data=crops, label='Wheat');\n",
    "sns.lineplot(x='Year', y='Wheat', data=crops);\n",
    "... # scatterplot of Rice (don't forget the label)\n",
    "... # lineplot of Rice"
   ]
  },
  {
   "cell_type": "markdown",
   "metadata": {},
   "source": [
    "It looks like for Wheat and Rice grow together. Let's look at their scatterplot for more information."
   ]
  },
  {
   "cell_type": "code",
   "execution_count": null,
   "metadata": {},
   "outputs": [],
   "source": [
    "### TODO\n",
    "ax = ..."
   ]
  },
  {
   "cell_type": "markdown",
   "metadata": {},
   "source": [
    "We can also see the scatterplot with the individual histogram distributions -- like one of the hybrid plots"
   ]
  },
  {
   "cell_type": "code",
   "execution_count": null,
   "metadata": {},
   "outputs": [],
   "source": [
    "ax = sns.jointplot(x='Wheat', y='Rice', data=crops)"
   ]
  },
  {
   "cell_type": "markdown",
   "metadata": {},
   "source": [
    "There definitely appears to be some kind of positive correlation between the 2 variables."
   ]
  },
  {
   "cell_type": "markdown",
   "metadata": {},
   "source": [
    "Let's try one more type of plot before exploring a more qualitative dataset. We'll look exclusively at Wheat and Rice data in 2000 but across all countries instead."
   ]
  },
  {
   "cell_type": "code",
   "execution_count": null,
   "metadata": {},
   "outputs": [],
   "source": [
    "crops_2000 = crops_all[crops_all['Year']==2000]\n",
    "crops_2000 = crops_2000.iloc[:,[0,2,3,4]].dropna()\n",
    "crops_2000 = crops_2000.rename(columns={'Entity':'Country','Wheat (tonnes per hectare)':'Wheat', 'Rice (tonnes per hectare)':'Rice'})\n",
    "crops_2000.head()"
   ]
  },
  {
   "cell_type": "code",
   "execution_count": null,
   "metadata": {},
   "outputs": [],
   "source": [
    "### TODO\n",
    "plt.hist(x=crops_2000[...], alpha=0.5, label=..., color='Orange'); # histogram of Wheat values\n",
    "... # histogram of Rice values\n",
    "plt.legend();"
   ]
  },
  {
   "cell_type": "markdown",
   "metadata": {},
   "source": [
    "Great! We see the overlapping histograms of the global crop yield in 2000 of wheat and rice."
   ]
  },
  {
   "cell_type": "markdown",
   "metadata": {},
   "source": [
    "### Coffee Ratings Dataset"
   ]
  },
  {
   "cell_type": "code",
   "execution_count": null,
   "metadata": {},
   "outputs": [],
   "source": [
    "# Read data in as a pandas dataframe\n",
    "coffee = pd.read_csv('https://raw.githubusercontent.com/rfordatascience/tidytuesday/master/data/2020/2020-07-07/coffee_ratings.csv')\n",
    "# Removing extra columns\n",
    "coffee = coffee[['species', 'country_of_origin', 'number_of_bags','harvest_year',\n",
    "                'acidity', 'balance', 'aroma', 'flavor', 'aftertaste', 'sweetness', 'uniformity', 'color']]\n",
    "# Pre-processing dataset\n",
    "coffee = coffee.rename(columns={\n",
    "    'country_of_origin':'country',\n",
    "    'number_of_bags':'num bags',\n",
    "    'harvest_year':'year',\n",
    "}).dropna()\n",
    "coffee.head()"
   ]
  },
  {
   "cell_type": "markdown",
   "metadata": {},
   "source": [
    "**Description of dataset**: Coffee ratings collected from the Coffee Quality Institute's review pages in January 2018 by Buzzfeed data scientist James LeDoux\n",
    "\n",
    "- species: Species of coffee bean (arabica or robusta)\n",
    "- country: Where the bean came from\n",
    "- num bags: Number of bags tested\n",
    "- year: When the beans were harvested (year)\n",
    "- color: Color of bean\n",
    "\n",
    "And the remaining columns represent the 'grades' of the coffee in each attribute (acidity, balance, aroma, flavor, aftertaste, sweetness, uniformity)"
   ]
  },
  {
   "cell_type": "markdown",
   "metadata": {},
   "source": [
    "#### Plot qualitative variables"
   ]
  },
  {
   "cell_type": "markdown",
   "metadata": {},
   "source": [
    "Let's make a bar graph to see the top 5 countries where the coffee in our dataset originates from."
   ]
  },
  {
   "cell_type": "code",
   "execution_count": null,
   "metadata": {},
   "outputs": [],
   "source": [
    "top_countries = coffee['country'].value_counts().sort_values(ascending=False)\n",
    "top_countries[:5]"
   ]
  },
  {
   "cell_type": "code",
   "execution_count": null,
   "metadata": {},
   "outputs": [],
   "source": [
    "### TODO\n",
    "__________[:5].plot.bar();"
   ]
  },
  {
   "cell_type": "markdown",
   "metadata": {},
   "source": [
    "Create one more bar graph to show the counts of each type of bean species in our dataset."
   ]
  },
  {
   "cell_type": "code",
   "execution_count": null,
   "metadata": {},
   "outputs": [],
   "source": [
    "ax = sns.countplot('species', data=...) ### TODO: bar graph of bean species"
   ]
  },
  {
   "cell_type": "code",
   "execution_count": null,
   "metadata": {
    "scrolled": true
   },
   "outputs": [],
   "source": [
    "bean_species = coffee['species'].value_counts().sort_values()\n",
    "bean_species"
   ]
  },
  {
   "cell_type": "markdown",
   "metadata": {},
   "source": [
    "Clearly, our graph matches up with what the data tells us in this tabular form. Robusta type coffee must be pretty rare!"
   ]
  },
  {
   "cell_type": "markdown",
   "metadata": {},
   "source": [
    "### Plot relationships ###"
   ]
  },
  {
   "cell_type": "markdown",
   "metadata": {},
   "source": [
    "Let's look at the distributions of acidity for each bean color."
   ]
  },
  {
   "cell_type": "code",
   "execution_count": null,
   "metadata": {},
   "outputs": [],
   "source": [
    "ax = coffee.boxplot(column=..., by='color'); # TODO: plot acidity distributions for each bean color\n",
    "plt.ylabel('acidity distribution'); # TODO: add label"
   ]
  },
  {
   "cell_type": "markdown",
   "metadata": {},
   "source": [
    "**Try-it-yourself!**\n",
    "\n",
    "Plot a boxplot for each color genre for a coffee grade of your choice!\n",
    "\n",
    "Try adding labels :)"
   ]
  },
  {
   "cell_type": "code",
   "execution_count": null,
   "metadata": {},
   "outputs": [],
   "source": [
    "ax = ... # TODO: boxplot by color for coffee grade metric\n",
    "plt.ylabel(...);"
   ]
  },
  {
   "cell_type": "markdown",
   "metadata": {},
   "source": [
    "### Adding labels, titles, legends ###"
   ]
  },
  {
   "cell_type": "code",
   "execution_count": null,
   "metadata": {},
   "outputs": [],
   "source": [
    "top_countries[:5] # recall the top_countries variable"
   ]
  },
  {
   "cell_type": "code",
   "execution_count": null,
   "metadata": {},
   "outputs": [],
   "source": [
    "### TODO: add axis labels and a title\n",
    "ax = ... # bar plot of top 8 countries\n",
    "ax.set_xlabel(...);\n",
    "ax.set_ylabel('counts');\n",
    "ax.set_title(...);"
   ]
  },
  {
   "cell_type": "code",
   "execution_count": null,
   "metadata": {},
   "outputs": [],
   "source": [
    "### TODO: play with font size, rotate x-axis labels\n",
    "ax = ____________________________.bar(rot=45)\n",
    "ax.set_title(..., fontsize=20);\n",
    "ax.set_ylabel(..., fontsize=16);\n",
    "ax.set_xlabel(..., fontsize=16);"
   ]
  },
  {
   "cell_type": "markdown",
   "metadata": {},
   "source": [
    "Let's try grouping different countries' coffee grades together in a new dataset so we can see how they compare to each other."
   ]
  },
  {
   "cell_type": "code",
   "execution_count": null,
   "metadata": {},
   "outputs": [],
   "source": [
    "coffee_grades = coffee.groupby('country').mean()\n",
    "coffee_grades.head()"
   ]
  },
  {
   "cell_type": "code",
   "execution_count": null,
   "metadata": {},
   "outputs": [],
   "source": [
    "axes = coffee_grades[['sweetness', 'balance','aroma']].head().plot.bar(rot=0, subplots=False)"
   ]
  },
  {
   "cell_type": "markdown",
   "metadata": {},
   "source": [
    "**Try-it-yourself!**\n",
    "\n",
    "Pick a type of plot which would effectively visualize different coffee grades for different countries. Don't forget your labels!"
   ]
  },
  {
   "cell_type": "code",
   "execution_count": null,
   "metadata": {},
   "outputs": [],
   "source": [
    "### TODO\n",
    "ax = ..."
   ]
  },
  {
   "cell_type": "code",
   "execution_count": null,
   "metadata": {},
   "outputs": [],
   "source": []
  },
  {
   "cell_type": "code",
   "execution_count": null,
   "metadata": {},
   "outputs": [],
   "source": []
  }
 ],
 "metadata": {
  "kernelspec": {
   "display_name": "Python 3",
   "language": "python",
   "name": "python3"
  },
  "language_info": {
   "codemirror_mode": {
    "name": "ipython",
    "version": 3
   },
   "file_extension": ".py",
   "mimetype": "text/x-python",
   "name": "python",
   "nbconvert_exporter": "python",
   "pygments_lexer": "ipython3",
   "version": "3.7.6"
  }
 },
 "nbformat": 4,
 "nbformat_minor": 4
}
