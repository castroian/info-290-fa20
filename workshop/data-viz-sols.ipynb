{
 "cells": [
  {
   "cell_type": "markdown",
   "metadata": {},
   "source": [
    "# Data visualization tutorial #"
   ]
  },
  {
   "cell_type": "code",
   "execution_count": 1,
   "metadata": {},
   "outputs": [],
   "source": [
    "import pandas as pd\n",
    "import matplotlib.pyplot as plt\n",
    "import seaborn as sns"
   ]
  },
  {
   "cell_type": "markdown",
   "metadata": {},
   "source": [
    "### Crop Yields Dataset"
   ]
  },
  {
   "cell_type": "markdown",
   "metadata": {},
   "source": [
    "#### Plot quantitative variables"
   ]
  },
  {
   "cell_type": "code",
   "execution_count": 101,
   "metadata": {
    "scrolled": true
   },
   "outputs": [
    {
     "data": {
      "text/html": [
       "<div>\n",
       "<style scoped>\n",
       "    .dataframe tbody tr th:only-of-type {\n",
       "        vertical-align: middle;\n",
       "    }\n",
       "\n",
       "    .dataframe tbody tr th {\n",
       "        vertical-align: top;\n",
       "    }\n",
       "\n",
       "    .dataframe thead th {\n",
       "        text-align: right;\n",
       "    }\n",
       "</style>\n",
       "<table border=\"1\" class=\"dataframe\">\n",
       "  <thead>\n",
       "    <tr style=\"text-align: right;\">\n",
       "      <th></th>\n",
       "      <th>Year</th>\n",
       "      <th>Wheat</th>\n",
       "      <th>Rice</th>\n",
       "    </tr>\n",
       "  </thead>\n",
       "  <tbody>\n",
       "    <tr>\n",
       "      <th>12270</th>\n",
       "      <td>1961</td>\n",
       "      <td>1.6070</td>\n",
       "      <td>3.8227</td>\n",
       "    </tr>\n",
       "    <tr>\n",
       "      <th>12271</th>\n",
       "      <td>1962</td>\n",
       "      <td>1.6809</td>\n",
       "      <td>4.1785</td>\n",
       "    </tr>\n",
       "    <tr>\n",
       "      <th>12272</th>\n",
       "      <td>1963</td>\n",
       "      <td>1.6949</td>\n",
       "      <td>4.4449</td>\n",
       "    </tr>\n",
       "    <tr>\n",
       "      <th>12273</th>\n",
       "      <td>1964</td>\n",
       "      <td>1.7344</td>\n",
       "      <td>4.5906</td>\n",
       "    </tr>\n",
       "    <tr>\n",
       "      <th>12274</th>\n",
       "      <td>1965</td>\n",
       "      <td>1.7853</td>\n",
       "      <td>4.7693</td>\n",
       "    </tr>\n",
       "  </tbody>\n",
       "</table>\n",
       "</div>"
      ],
      "text/plain": [
       "       Year   Wheat    Rice\n",
       "12270  1961  1.6070  3.8227\n",
       "12271  1962  1.6809  4.1785\n",
       "12272  1963  1.6949  4.4449\n",
       "12273  1964  1.7344  4.5906\n",
       "12274  1965  1.7853  4.7693"
      ]
     },
     "execution_count": 101,
     "metadata": {},
     "output_type": "execute_result"
    }
   ],
   "source": [
    "# Reads data\n",
    "crops_all = pd.read_csv('https://raw.githubusercontent.com/rfordatascience/tidytuesday/master/data/2020/2020-09-01/key_crop_yields.csv')\n",
    "# Removes unnecessary rows\n",
    "crops_us = crops_all[crops_all['Entity'] == 'United States']\n",
    "crops = crops_us.iloc[:,[2,3,4]]\n",
    "# Processes dataset\n",
    "crops = crops.rename(columns={'Wheat (tonnes per hectare)':'Wheat', 'Rice (tonnes per hectare)':'Rice'})\n",
    "crops.head()"
   ]
  },
  {
   "cell_type": "markdown",
   "metadata": {},
   "source": [
    "**Description of dataset**: Crop yield in the USA\n",
    "\n",
    "- Year: Year\n",
    "- Wheat: Tonnes per hectare of wheat harvested\n",
    "- Rice: Tonnes per hectare of rice harvested in a given country and year"
   ]
  },
  {
   "cell_type": "markdown",
   "metadata": {},
   "source": [
    "Which variables are quantitative? What types of plots correspond with quantitative variables?"
   ]
  },
  {
   "cell_type": "code",
   "execution_count": null,
   "metadata": {},
   "outputs": [],
   "source": [
    "### TODO: Fill in the following code cell wherever you see an ellipsis (...)\n",
    "values = crops[...] # Wheat values\n",
    "ax = sns.distplot(values, kde=False, rug=False) # play with the kde and rug arguments!"
   ]
  },
  {
   "cell_type": "code",
   "execution_count": 91,
   "metadata": {
    "scrolled": true
   },
   "outputs": [
    {
     "data": {
      "image/png": "[encoded data removed]",
      "text/plain": [
       "<Figure size 432x288 with 1 Axes>"
      ]
     },
     "metadata": {
      "needs_background": "light"
     },
     "output_type": "display_data"
    }
   ],
   "source": [
    "values = crops['Wheat']\n",
    "ax = sns.distplot(values, kde=False, rug=False)"
   ]
  },
  {
   "cell_type": "code",
   "execution_count": 85,
   "metadata": {
    "scrolled": true
   },
   "outputs": [
    {
     "data": {
      "image/png": "[encoded data removed]",
      "text/plain": [
       "<Figure size 432x288 with 1 Axes>"
      ]
     },
     "metadata": {
      "needs_background": "light"
     },
     "output_type": "display_data"
    }
   ],
   "source": [
    "ax = sns.boxplot(x='Wheat', data=crops);"
   ]
  },
  {
   "cell_type": "code",
   "execution_count": 116,
   "metadata": {},
   "outputs": [
    {
     "data": {
      "image/png": "[encoded data removed]",
      "text/plain": [
       "<Figure size 432x288 with 1 Axes>"
      ]
     },
     "metadata": {
      "needs_background": "light"
     },
     "output_type": "display_data"
    }
   ],
   "source": [
    "ax = sns.violinplot(x='Wheat', data=crops);"
   ]
  },
  {
   "cell_type": "markdown",
   "metadata": {},
   "source": [
    "Okay, now let's try something more insightful. Try visualizing the change in the wheat yield over time."
   ]
  },
  {
   "cell_type": "code",
   "execution_count": null,
   "metadata": {},
   "outputs": [],
   "source": [
    "### TODO\n",
    "ax = sns.scatterplot(x=..., y=..., data=crops);"
   ]
  },
  {
   "cell_type": "code",
   "execution_count": 86,
   "metadata": {
    "scrolled": true
   },
   "outputs": [
    {
     "data": {
      "image/png": "[encoded data removed]",
      "text/plain": [
       "<Figure size 432x288 with 1 Axes>"
      ]
     },
     "metadata": {
      "needs_background": "light"
     },
     "output_type": "display_data"
    }
   ],
   "source": [
    "ax = sns.scatterplot(x='Year', y='Wheat', data=crops);"
   ]
  },
  {
   "cell_type": "markdown",
   "metadata": {},
   "source": [
    "What conclusions can you draw from this scatterplot?"
   ]
  },
  {
   "cell_type": "markdown",
   "metadata": {},
   "source": [
    "Seems like there's a pretty clear trend. Now let's add a lineplot too."
   ]
  },
  {
   "cell_type": "code",
   "execution_count": null,
   "metadata": {},
   "outputs": [],
   "source": [
    "### TODO\n",
    "ax = ... # scatterplot\n",
    "ax = sns.lineplot(x=..., y=..., data=crops);"
   ]
  },
  {
   "cell_type": "code",
   "execution_count": 87,
   "metadata": {
    "scrolled": true
   },
   "outputs": [
    {
     "data": {
      "image/png": "[encoded data removed]",
      "text/plain": [
       "<Figure size 432x288 with 1 Axes>"
      ]
     },
     "metadata": {
      "needs_background": "light"
     },
     "output_type": "display_data"
    }
   ],
   "source": [
    "ax = sns.scatterplot(x='Year', y='Wheat', data=crops);\n",
    "ax = sns.lineplot(x='Year', y='Wheat', data=crops);"
   ]
  },
  {
   "cell_type": "markdown",
   "metadata": {},
   "source": [
    "Look at that! Our first visualization!"
   ]
  },
  {
   "cell_type": "markdown",
   "metadata": {},
   "source": [
    "Now let's explore the differences between Wheat and Rice."
   ]
  },
  {
   "cell_type": "markdown",
   "metadata": {},
   "source": [
    "**Try-it-yourself!**\n",
    "\n",
    "Pick a type of plot which would effectively visualize the distribution of rice."
   ]
  },
  {
   "cell_type": "code",
   "execution_count": null,
   "metadata": {},
   "outputs": [],
   "source": [
    "# TODO: distribution of rice\n",
    "ax = ... "
   ]
  },
  {
   "cell_type": "code",
   "execution_count": 92,
   "metadata": {
    "scrolled": true
   },
   "outputs": [
    {
     "data": {
      "image/png": "[encoded data removed]",
      "text/plain": [
       "<Figure size 432x288 with 1 Axes>"
      ]
     },
     "metadata": {
      "needs_background": "light"
     },
     "output_type": "display_data"
    }
   ],
   "source": [
    "values = crops['Rice']\n",
    "ax = sns.distplot(values, kde=False, rug=False) # play with the kde and rug arguments!"
   ]
  },
  {
   "cell_type": "code",
   "execution_count": 117,
   "metadata": {},
   "outputs": [
    {
     "data": {
      "image/png": "[encoded data removed]",
      "text/plain": [
       "<Figure size 432x288 with 1 Axes>"
      ]
     },
     "metadata": {
      "needs_background": "light"
     },
     "output_type": "display_data"
    }
   ],
   "source": [
    "ax = sns.boxplot(x='Rice', data=crops);"
   ]
  },
  {
   "cell_type": "code",
   "execution_count": null,
   "metadata": {},
   "outputs": [],
   "source": [
    "### TODO\n",
    "ax = ... # scatterplot of Rice\n",
    "ax = ... # lineplot of Rice"
   ]
  },
  {
   "cell_type": "code",
   "execution_count": 93,
   "metadata": {
    "scrolled": true
   },
   "outputs": [
    {
     "data": {
      "image/png": "[encoded data removed]",
      "text/plain": [
       "<Figure size 432x288 with 1 Axes>"
      ]
     },
     "metadata": {
      "needs_background": "light"
     },
     "output_type": "display_data"
    }
   ],
   "source": [
    "ax = sns.scatterplot(x='Year', y='Rice', data=crops);\n",
    "ax = sns.lineplot(x='Year', y='Rice', data=crops);"
   ]
  },
  {
   "cell_type": "markdown",
   "metadata": {},
   "source": [
    "This is useful, but it's annoying to scroll. Let's merge the visualizations together."
   ]
  },
  {
   "cell_type": "code",
   "execution_count": null,
   "metadata": {},
   "outputs": [],
   "source": [
    "### TODO\n",
    "sns.scatterplot(x='Year', y=..., data=crops, label='Wheat');\n",
    "sns.lineplot(x='Year', y='Wheat', data=crops);\n",
    "... # scatterplot of Rice (don't forget the label)\n",
    "... # lineplot of Rice"
   ]
  },
  {
   "cell_type": "code",
   "execution_count": 94,
   "metadata": {},
   "outputs": [
    {
     "data": {
      "image/png": "[encoded data removed]",
      "text/plain": [
       "<Figure size 432x288 with 1 Axes>"
      ]
     },
     "metadata": {
      "needs_background": "light"
     },
     "output_type": "display_data"
    }
   ],
   "source": [
    "sns.scatterplot(x='Year', y='Wheat', data=crops, label='Wheat');\n",
    "sns.lineplot(x='Year', y='Wheat', data=crops);\n",
    "sns.scatterplot(x='Year', y='Rice', data=crops, label='Rice');\n",
    "sns.lineplot(x='Year', y='Rice', data=crops);"
   ]
  },
  {
   "cell_type": "markdown",
   "metadata": {},
   "source": [
    "It looks like for Wheat and Rice grow together. Let's look at their scatterplot for more information."
   ]
  },
  {
   "cell_type": "code",
   "execution_count": null,
   "metadata": {},
   "outputs": [],
   "source": [
    "### TODO\n",
    "ax = ..."
   ]
  },
  {
   "cell_type": "code",
   "execution_count": 96,
   "metadata": {},
   "outputs": [
    {
     "data": {
      "image/png": "[encoded data removed]",
      "text/plain": [
       "<Figure size 432x288 with 1 Axes>"
      ]
     },
     "metadata": {
      "needs_background": "light"
     },
     "output_type": "display_data"
    }
   ],
   "source": [
    "ax = sns.scatterplot(x='Wheat', y='Rice', data=crops);"
   ]
  },
  {
   "cell_type": "markdown",
   "metadata": {},
   "source": [
    "We can also see the scatterplot with the individual histogram distributions -- like one of the hybrid plots"
   ]
  },
  {
   "cell_type": "code",
   "execution_count": 114,
   "metadata": {},
   "outputs": [
    {
     "data": {
      "image/png": "[encoded data removed]",
      "text/plain": [
       "<Figure size 432x432 with 3 Axes>"
      ]
     },
     "metadata": {
      "needs_background": "light"
     },
     "output_type": "display_data"
    }
   ],
   "source": [
    "ax = sns.jointplot(x='Wheat', y='Rice', data=crops)"
   ]
  },
  {
   "cell_type": "markdown",
   "metadata": {},
   "source": [
    "There definitely appears to be some kind of positive correlation between the 2 variables."
   ]
  },
  {
   "cell_type": "markdown",
   "metadata": {},
   "source": [
    "Let's try one more type of plot before exploring a more qualitative dataset. We'll look exclusively at Wheat and Rice data in 2000 but across all countries instead."
   ]
  },
  {
   "cell_type": "code",
   "execution_count": 107,
   "metadata": {},
   "outputs": [
    {
     "data": {
      "text/html": [
       "<div>\n",
       "<style scoped>\n",
       "    .dataframe tbody tr th:only-of-type {\n",
       "        vertical-align: middle;\n",
       "    }\n",
       "\n",
       "    .dataframe tbody tr th {\n",
       "        vertical-align: top;\n",
       "    }\n",
       "\n",
       "    .dataframe thead th {\n",
       "        text-align: right;\n",
       "    }\n",
       "</style>\n",
       "<table border=\"1\" class=\"dataframe\">\n",
       "  <thead>\n",
       "    <tr style=\"text-align: right;\">\n",
       "      <th></th>\n",
       "      <th>Country</th>\n",
       "      <th>Year</th>\n",
       "      <th>Wheat</th>\n",
       "      <th>Rice</th>\n",
       "    </tr>\n",
       "  </thead>\n",
       "  <tbody>\n",
       "    <tr>\n",
       "      <th>39</th>\n",
       "      <td>Afghanistan</td>\n",
       "      <td>2000</td>\n",
       "      <td>0.7240</td>\n",
       "      <td>2.0000</td>\n",
       "    </tr>\n",
       "    <tr>\n",
       "      <th>97</th>\n",
       "      <td>Africa</td>\n",
       "      <td>2000</td>\n",
       "      <td>1.7520</td>\n",
       "      <td>2.3119</td>\n",
       "    </tr>\n",
       "    <tr>\n",
       "      <th>213</th>\n",
       "      <td>Algeria</td>\n",
       "      <td>2000</td>\n",
       "      <td>0.9194</td>\n",
       "      <td>1.3101</td>\n",
       "    </tr>\n",
       "    <tr>\n",
       "      <th>329</th>\n",
       "      <td>Americas</td>\n",
       "      <td>2000</td>\n",
       "      <td>2.6660</td>\n",
       "      <td>4.1472</td>\n",
       "    </tr>\n",
       "    <tr>\n",
       "      <th>387</th>\n",
       "      <td>Angola</td>\n",
       "      <td>2000</td>\n",
       "      <td>1.7025</td>\n",
       "      <td>1.3454</td>\n",
       "    </tr>\n",
       "  </tbody>\n",
       "</table>\n",
       "</div>"
      ],
      "text/plain": [
       "         Country  Year   Wheat    Rice\n",
       "39   Afghanistan  2000  0.7240  2.0000\n",
       "97        Africa  2000  1.7520  2.3119\n",
       "213      Algeria  2000  0.9194  1.3101\n",
       "329     Americas  2000  2.6660  4.1472\n",
       "387       Angola  2000  1.7025  1.3454"
      ]
     },
     "execution_count": 107,
     "metadata": {},
     "output_type": "execute_result"
    }
   ],
   "source": [
    "crops_2000 = crops_all[crops_all['Year']==2000]\n",
    "crops_2000 = crops_2000.iloc[:,[0,2,3,4]].dropna()\n",
    "crops_2000 = crops_2000.rename(columns={'Entity':'Country','Wheat (tonnes per hectare)':'Wheat', 'Rice (tonnes per hectare)':'Rice'})\n",
    "crops_2000.head()"
   ]
  },
  {
   "cell_type": "code",
   "execution_count": null,
   "metadata": {},
   "outputs": [],
   "source": [
    "### TODO\n",
    "plt.hist(x=crops_2000[...], alpha=0.5, label=..., color='Orange'); # histogram of Wheat values\n",
    "... # histogram of Rice values\n",
    "plt.legend();"
   ]
  },
  {
   "cell_type": "code",
   "execution_count": 108,
   "metadata": {
    "scrolled": true
   },
   "outputs": [
    {
     "data": {
      "image/png": "[encoded data removed]",
      "text/plain": [
       "<Figure size 432x288 with 1 Axes>"
      ]
     },
     "metadata": {
      "needs_background": "light"
     },
     "output_type": "display_data"
    }
   ],
   "source": [
    "plt.hist(x=crops_2000['Wheat'], alpha=0.5, label='Wheat', color='Orange');\n",
    "plt.hist(x=crops_2000['Rice'], alpha=0.5, label='Rice', color='Green');\n",
    "plt.legend();"
   ]
  },
  {
   "cell_type": "markdown",
   "metadata": {},
   "source": [
    "Great! We see the overlapping histograms of the global crop yield in 2000 of wheat and rice."
   ]
  },
  {
   "cell_type": "markdown",
   "metadata": {},
   "source": [
    "### Coffee Ratings Dataset"
   ]
  },
  {
   "cell_type": "code",
   "execution_count": 122,
   "metadata": {},
   "outputs": [
    {
     "data": {
      "text/html": [
       "<div>\n",
       "<style scoped>\n",
       "    .dataframe tbody tr th:only-of-type {\n",
       "        vertical-align: middle;\n",
       "    }\n",
       "\n",
       "    .dataframe tbody tr th {\n",
       "        vertical-align: top;\n",
       "    }\n",
       "\n",
       "    .dataframe thead th {\n",
       "        text-align: right;\n",
       "    }\n",
       "</style>\n",
       "<table border=\"1\" class=\"dataframe\">\n",
       "  <thead>\n",
       "    <tr style=\"text-align: right;\">\n",
       "      <th></th>\n",
       "      <th>species</th>\n",
       "      <th>country</th>\n",
       "      <th>num bags</th>\n",
       "      <th>year</th>\n",
       "      <th>acidity</th>\n",
       "      <th>balance</th>\n",
       "      <th>aroma</th>\n",
       "      <th>flavor</th>\n",
       "      <th>aftertaste</th>\n",
       "      <th>sweetness</th>\n",
       "      <th>uniformity</th>\n",
       "      <th>color</th>\n",
       "    </tr>\n",
       "  </thead>\n",
       "  <tbody>\n",
       "    <tr>\n",
       "      <th>0</th>\n",
       "      <td>Arabica</td>\n",
       "      <td>Ethiopia</td>\n",
       "      <td>300</td>\n",
       "      <td>2014</td>\n",
       "      <td>8.75</td>\n",
       "      <td>8.42</td>\n",
       "      <td>8.67</td>\n",
       "      <td>8.83</td>\n",
       "      <td>8.67</td>\n",
       "      <td>10.0</td>\n",
       "      <td>10.0</td>\n",
       "      <td>Green</td>\n",
       "    </tr>\n",
       "    <tr>\n",
       "      <th>1</th>\n",
       "      <td>Arabica</td>\n",
       "      <td>Ethiopia</td>\n",
       "      <td>300</td>\n",
       "      <td>2014</td>\n",
       "      <td>8.58</td>\n",
       "      <td>8.42</td>\n",
       "      <td>8.75</td>\n",
       "      <td>8.67</td>\n",
       "      <td>8.50</td>\n",
       "      <td>10.0</td>\n",
       "      <td>10.0</td>\n",
       "      <td>Green</td>\n",
       "    </tr>\n",
       "    <tr>\n",
       "      <th>3</th>\n",
       "      <td>Arabica</td>\n",
       "      <td>Ethiopia</td>\n",
       "      <td>320</td>\n",
       "      <td>2014</td>\n",
       "      <td>8.42</td>\n",
       "      <td>8.25</td>\n",
       "      <td>8.17</td>\n",
       "      <td>8.58</td>\n",
       "      <td>8.42</td>\n",
       "      <td>10.0</td>\n",
       "      <td>10.0</td>\n",
       "      <td>Green</td>\n",
       "    </tr>\n",
       "    <tr>\n",
       "      <th>4</th>\n",
       "      <td>Arabica</td>\n",
       "      <td>Ethiopia</td>\n",
       "      <td>300</td>\n",
       "      <td>2014</td>\n",
       "      <td>8.50</td>\n",
       "      <td>8.33</td>\n",
       "      <td>8.25</td>\n",
       "      <td>8.50</td>\n",
       "      <td>8.25</td>\n",
       "      <td>10.0</td>\n",
       "      <td>10.0</td>\n",
       "      <td>Green</td>\n",
       "    </tr>\n",
       "    <tr>\n",
       "      <th>5</th>\n",
       "      <td>Arabica</td>\n",
       "      <td>Brazil</td>\n",
       "      <td>100</td>\n",
       "      <td>2013</td>\n",
       "      <td>8.50</td>\n",
       "      <td>8.33</td>\n",
       "      <td>8.58</td>\n",
       "      <td>8.42</td>\n",
       "      <td>8.42</td>\n",
       "      <td>10.0</td>\n",
       "      <td>10.0</td>\n",
       "      <td>Bluish-Green</td>\n",
       "    </tr>\n",
       "  </tbody>\n",
       "</table>\n",
       "</div>"
      ],
      "text/plain": [
       "   species   country  num bags  year  acidity  balance  aroma  flavor  \\\n",
       "0  Arabica  Ethiopia       300  2014     8.75     8.42   8.67    8.83   \n",
       "1  Arabica  Ethiopia       300  2014     8.58     8.42   8.75    8.67   \n",
       "3  Arabica  Ethiopia       320  2014     8.42     8.25   8.17    8.58   \n",
       "4  Arabica  Ethiopia       300  2014     8.50     8.33   8.25    8.50   \n",
       "5  Arabica    Brazil       100  2013     8.50     8.33   8.58    8.42   \n",
       "\n",
       "   aftertaste  sweetness  uniformity         color  \n",
       "0        8.67       10.0        10.0         Green  \n",
       "1        8.50       10.0        10.0         Green  \n",
       "3        8.42       10.0        10.0         Green  \n",
       "4        8.25       10.0        10.0         Green  \n",
       "5        8.42       10.0        10.0  Bluish-Green  "
      ]
     },
     "execution_count": 122,
     "metadata": {},
     "output_type": "execute_result"
    }
   ],
   "source": [
    "# Read data in as a pandas dataframe\n",
    "coffee = pd.read_csv('https://raw.githubusercontent.com/rfordatascience/tidytuesday/master/data/2020/2020-07-07/coffee_ratings.csv')\n",
    "# Removing extra columns\n",
    "coffee = coffee[['species', 'country_of_origin', 'number_of_bags','harvest_year',\n",
    "                'acidity', 'balance', 'aroma', 'flavor', 'aftertaste', 'sweetness', 'uniformity', 'color']]\n",
    "# Pre-processing dataset\n",
    "coffee = coffee.rename(columns={\n",
    "    'country_of_origin':'country',\n",
    "    'number_of_bags':'num bags',\n",
    "    'harvest_year':'year',\n",
    "}).dropna()\n",
    "coffee.head()"
   ]
  },
  {
   "cell_type": "markdown",
   "metadata": {},
   "source": [
    "**Description of dataset**: Coffee ratings collected from the Coffee Quality Institute's review pages in January 2018 by Buzzfeed data scientist James LeDoux\n",
    "\n",
    "- species: Species of coffee bean (arabica or robusta)\n",
    "- country: Where the bean came from\n",
    "- num bags: Number of bags tested\n",
    "- year: When the beans were harvested (year)\n",
    "- color: Color of bean\n",
    "\n",
    "And the remaining columns represent the 'grades' of the coffee in each attribute (acidity, balance, aroma, flavor, aftertaste, sweetness, uniformity)"
   ]
  },
  {
   "cell_type": "markdown",
   "metadata": {},
   "source": [
    "#### Plot qualitative variables"
   ]
  },
  {
   "cell_type": "markdown",
   "metadata": {},
   "source": [
    "Let's make a bar graph to see the top 5 countries where the coffee in our dataset originates from."
   ]
  },
  {
   "cell_type": "code",
   "execution_count": 136,
   "metadata": {},
   "outputs": [
    {
     "data": {
      "text/plain": [
       "Mexico       204\n",
       "Guatemala    169\n",
       "Colombia     134\n",
       "Brazil       117\n",
       "Taiwan        69\n",
       "Name: country, dtype: int64"
      ]
     },
     "execution_count": 136,
     "metadata": {},
     "output_type": "execute_result"
    }
   ],
   "source": [
    "top_countries = coffee['country'].value_counts().sort_values(ascending=False)\n",
    "top_countries[:5]"
   ]
  },
  {
   "cell_type": "code",
   "execution_count": null,
   "metadata": {},
   "outputs": [],
   "source": [
    "### TODO\n",
    "__________[:5].plot.bar();"
   ]
  },
  {
   "cell_type": "code",
   "execution_count": 140,
   "metadata": {
    "scrolled": false
   },
   "outputs": [
    {
     "data": {
      "image/png": "[encoded data removed]",
      "text/plain": [
       "<Figure size 432x288 with 1 Axes>"
      ]
     },
     "metadata": {
      "needs_background": "light"
     },
     "output_type": "display_data"
    }
   ],
   "source": [
    "top_countries[:5].plot.bar();"
   ]
  },
  {
   "cell_type": "markdown",
   "metadata": {},
   "source": [
    "Create one more bar graph to show the counts of each type of bean species in our dataset."
   ]
  },
  {
   "cell_type": "code",
   "execution_count": null,
   "metadata": {},
   "outputs": [],
   "source": [
    "ax = sns.countplot('species', data=...) ### TODO: bar graph of bean species"
   ]
  },
  {
   "cell_type": "code",
   "execution_count": 126,
   "metadata": {},
   "outputs": [
    {
     "data": {
      "image/png": "[encoded data removed]",
      "text/plain": [
       "<Figure size 432x288 with 1 Axes>"
      ]
     },
     "metadata": {
      "needs_background": "light"
     },
     "output_type": "display_data"
    }
   ],
   "source": [
    "ax = sns.countplot('species', data=coffee);"
   ]
  },
  {
   "cell_type": "code",
   "execution_count": 123,
   "metadata": {
    "scrolled": true
   },
   "outputs": [
    {
     "data": {
      "text/plain": [
       "Robusta      26\n",
       "Arabica    1084\n",
       "Name: species, dtype: int64"
      ]
     },
     "execution_count": 123,
     "metadata": {},
     "output_type": "execute_result"
    }
   ],
   "source": [
    "bean_species = coffee['species'].value_counts().sort_values()\n",
    "bean_species"
   ]
  },
  {
   "cell_type": "markdown",
   "metadata": {},
   "source": [
    "Clearly, our graph matches up with what the data tells us in this tabular form. Robusta type coffee must be pretty rare!"
   ]
  },
  {
   "cell_type": "markdown",
   "metadata": {},
   "source": [
    "### Plot relationships ###"
   ]
  },
  {
   "cell_type": "markdown",
   "metadata": {},
   "source": [
    "Let's look at the distributions of acidity for each bean color."
   ]
  },
  {
   "cell_type": "code",
   "execution_count": null,
   "metadata": {},
   "outputs": [],
   "source": [
    "ax = coffee.boxplot(column=..., by='color'); # TODO: plot acidity distributions for each bean color\n",
    "plt.ylabel('acidity distribution'); # TODO: add label"
   ]
  },
  {
   "cell_type": "code",
   "execution_count": 148,
   "metadata": {
    "scrolled": true
   },
   "outputs": [
    {
     "data": {
      "image/png": "[encoded data removed]",
      "text/plain": [
       "<Figure size 432x288 with 1 Axes>"
      ]
     },
     "metadata": {
      "needs_background": "light"
     },
     "output_type": "display_data"
    }
   ],
   "source": [
    "ax = coffee.boxplot(column='acidity', by='color');\n",
    "plt.ylabel('acidity distribution');"
   ]
  },
  {
   "cell_type": "markdown",
   "metadata": {},
   "source": [
    "**Try-it-yourself!**\n",
    "\n",
    "Plot a boxplot for each color genre for a coffee grade of your choice!\n",
    "\n",
    "Try adding labels :)"
   ]
  },
  {
   "cell_type": "code",
   "execution_count": null,
   "metadata": {},
   "outputs": [],
   "source": [
    "ax = ... # TODO: boxplot by color for coffee grade metric\n",
    "plt.ylabel(...);"
   ]
  },
  {
   "cell_type": "code",
   "execution_count": 153,
   "metadata": {
    "scrolled": true
   },
   "outputs": [
    {
     "data": {
      "image/png": "[encoded data removed]",
      "text/plain": [
       "<Figure size 432x288 with 1 Axes>"
      ]
     },
     "metadata": {
      "needs_background": "light"
     },
     "output_type": "display_data"
    }
   ],
   "source": [
    "ax = coffee.boxplot(column='flavor', by='color');\n",
    "plt.ylabel('acidity distribution');"
   ]
  },
  {
   "cell_type": "code",
   "execution_count": 155,
   "metadata": {},
   "outputs": [
    {
     "data": {
      "image/png": "[encoded data removed]",
      "text/plain": [
       "<Figure size 432x288 with 1 Axes>"
      ]
     },
     "metadata": {
      "needs_background": "light"
     },
     "output_type": "display_data"
    }
   ],
   "source": [
    "ax = coffee.boxplot(column='flavor', by='color');\n",
    "plt.ylabel('acidity distribution');\n",
    "plt.ylim(5,9);"
   ]
  },
  {
   "cell_type": "markdown",
   "metadata": {},
   "source": [
    "### Adding labels, titles, legends ###"
   ]
  },
  {
   "cell_type": "code",
   "execution_count": 156,
   "metadata": {},
   "outputs": [
    {
     "data": {
      "text/plain": [
       "Mexico       204\n",
       "Guatemala    169\n",
       "Colombia     134\n",
       "Brazil       117\n",
       "Taiwan        69\n",
       "Name: country, dtype: int64"
      ]
     },
     "execution_count": 156,
     "metadata": {},
     "output_type": "execute_result"
    }
   ],
   "source": [
    "top_countries[:5] # recall the top_countries variable"
   ]
  },
  {
   "cell_type": "code",
   "execution_count": 157,
   "metadata": {},
   "outputs": [
    {
     "data": {
      "image/png": "[encoded data removed]",
      "text/plain": [
       "<Figure size 432x288 with 1 Axes>"
      ]
     },
     "metadata": {
      "needs_background": "light"
     },
     "output_type": "display_data"
    }
   ],
   "source": [
    "### TODO: add axis labels and a title\n",
    "ax = ... # bar plot of top 8 countries\n",
    "ax.set_xlabel(...);\n",
    "ax.set_ylabel('counts');\n",
    "ax.set_title(...);"
   ]
  },
  {
   "cell_type": "code",
   "execution_count": 168,
   "metadata": {},
   "outputs": [
    {
     "data": {
      "image/png": "[encoded data removed]",
      "text/plain": [
       "<Figure size 432x288 with 1 Axes>"
      ]
     },
     "metadata": {
      "needs_background": "light"
     },
     "output_type": "display_data"
    }
   ],
   "source": [
    "ax = top_countries[:8].plot.bar()\n",
    "ax.set_title('top 8 countries of coffee origins');\n",
    "ax.set_ylabel('counts');\n",
    "ax.set_xlabel('countries of origin');"
   ]
  },
  {
   "cell_type": "code",
   "execution_count": null,
   "metadata": {},
   "outputs": [],
   "source": [
    "### TODO: play with font size, rotate x-axis labels\n",
    "ax = ____________________________.bar(rot=45)\n",
    "ax.set_title(..., fontsize=20);\n",
    "ax.set_ylabel(..., fontsize=16);\n",
    "ax.set_xlabel(..., fontsize=16);"
   ]
  },
  {
   "cell_type": "code",
   "execution_count": 167,
   "metadata": {
    "scrolled": false
   },
   "outputs": [
    {
     "data": {
      "image/png": "[encoded data removed]",
      "text/plain": [
       "<Figure size 432x288 with 1 Axes>"
      ]
     },
     "metadata": {
      "needs_background": "light"
     },
     "output_type": "display_data"
    }
   ],
   "source": [
    "ax = top_countries[:8].plot.bar(rot=45)\n",
    "ax.set_title('top 8 countries of coffee origins', fontsize=20);\n",
    "ax.set_ylabel('counts', fontsize=16);\n",
    "ax.set_xlabel('countries of origin', fontsize=16);"
   ]
  },
  {
   "cell_type": "markdown",
   "metadata": {},
   "source": [
    "Let's try grouping different countries' coffee grades together in a new dataset so we can see how they compare to each other."
   ]
  },
  {
   "cell_type": "code",
   "execution_count": 190,
   "metadata": {},
   "outputs": [
    {
     "data": {
      "text/html": [
       "<div>\n",
       "<style scoped>\n",
       "    .dataframe tbody tr th:only-of-type {\n",
       "        vertical-align: middle;\n",
       "    }\n",
       "\n",
       "    .dataframe tbody tr th {\n",
       "        vertical-align: top;\n",
       "    }\n",
       "\n",
       "    .dataframe thead th {\n",
       "        text-align: right;\n",
       "    }\n",
       "</style>\n",
       "<table border=\"1\" class=\"dataframe\">\n",
       "  <thead>\n",
       "    <tr style=\"text-align: right;\">\n",
       "      <th></th>\n",
       "      <th>num bags</th>\n",
       "      <th>acidity</th>\n",
       "      <th>balance</th>\n",
       "      <th>aroma</th>\n",
       "      <th>flavor</th>\n",
       "      <th>aftertaste</th>\n",
       "      <th>sweetness</th>\n",
       "      <th>uniformity</th>\n",
       "    </tr>\n",
       "    <tr>\n",
       "      <th>country</th>\n",
       "      <th></th>\n",
       "      <th></th>\n",
       "      <th></th>\n",
       "      <th></th>\n",
       "      <th></th>\n",
       "      <th></th>\n",
       "      <th></th>\n",
       "      <th></th>\n",
       "    </tr>\n",
       "  </thead>\n",
       "  <tbody>\n",
       "    <tr>\n",
       "      <th>Brazil</th>\n",
       "      <td>232.752137</td>\n",
       "      <td>7.504359</td>\n",
       "      <td>7.521368</td>\n",
       "      <td>7.533761</td>\n",
       "      <td>7.565299</td>\n",
       "      <td>7.431026</td>\n",
       "      <td>9.948632</td>\n",
       "      <td>9.880171</td>\n",
       "    </tr>\n",
       "    <tr>\n",
       "      <th>Burundi</th>\n",
       "      <td>300.000000</td>\n",
       "      <td>7.330000</td>\n",
       "      <td>7.080000</td>\n",
       "      <td>7.080000</td>\n",
       "      <td>7.250000</td>\n",
       "      <td>7.170000</td>\n",
       "      <td>10.000000</td>\n",
       "      <td>10.000000</td>\n",
       "    </tr>\n",
       "    <tr>\n",
       "      <th>China</th>\n",
       "      <td>3.437500</td>\n",
       "      <td>7.578125</td>\n",
       "      <td>7.548125</td>\n",
       "      <td>7.641250</td>\n",
       "      <td>7.625625</td>\n",
       "      <td>7.484375</td>\n",
       "      <td>9.916250</td>\n",
       "      <td>9.958125</td>\n",
       "    </tr>\n",
       "    <tr>\n",
       "      <th>Colombia</th>\n",
       "      <td>224.358209</td>\n",
       "      <td>7.592015</td>\n",
       "      <td>7.718060</td>\n",
       "      <td>7.659776</td>\n",
       "      <td>7.620149</td>\n",
       "      <td>7.558657</td>\n",
       "      <td>9.965224</td>\n",
       "      <td>9.920373</td>\n",
       "    </tr>\n",
       "    <tr>\n",
       "      <th>Costa Rica</th>\n",
       "      <td>204.229167</td>\n",
       "      <td>7.578542</td>\n",
       "      <td>7.637083</td>\n",
       "      <td>7.683958</td>\n",
       "      <td>7.542917</td>\n",
       "      <td>7.538333</td>\n",
       "      <td>9.902708</td>\n",
       "      <td>9.847292</td>\n",
       "    </tr>\n",
       "  </tbody>\n",
       "</table>\n",
       "</div>"
      ],
      "text/plain": [
       "              num bags   acidity   balance     aroma    flavor  aftertaste  \\\n",
       "country                                                                      \n",
       "Brazil      232.752137  7.504359  7.521368  7.533761  7.565299    7.431026   \n",
       "Burundi     300.000000  7.330000  7.080000  7.080000  7.250000    7.170000   \n",
       "China         3.437500  7.578125  7.548125  7.641250  7.625625    7.484375   \n",
       "Colombia    224.358209  7.592015  7.718060  7.659776  7.620149    7.558657   \n",
       "Costa Rica  204.229167  7.578542  7.637083  7.683958  7.542917    7.538333   \n",
       "\n",
       "            sweetness  uniformity  \n",
       "country                            \n",
       "Brazil       9.948632    9.880171  \n",
       "Burundi     10.000000   10.000000  \n",
       "China        9.916250    9.958125  \n",
       "Colombia     9.965224    9.920373  \n",
       "Costa Rica   9.902708    9.847292  "
      ]
     },
     "execution_count": 190,
     "metadata": {},
     "output_type": "execute_result"
    }
   ],
   "source": [
    "coffee_grades = coffee.groupby('country').mean()\n",
    "coffee_grades.head()"
   ]
  },
  {
   "cell_type": "code",
   "execution_count": 193,
   "metadata": {},
   "outputs": [
    {
     "data": {
      "image/png": "[encoded data removed]",
      "text/plain": [
       "<Figure size 432x288 with 1 Axes>"
      ]
     },
     "metadata": {
      "needs_background": "light"
     },
     "output_type": "display_data"
    }
   ],
   "source": [
    "axes = coffee_grades[['sweetness', 'balance','aroma']].head().plot.bar(rot=0, subplots=False)"
   ]
  },
  {
   "cell_type": "markdown",
   "metadata": {},
   "source": [
    "**Try-it-yourself!**\n",
    "\n",
    "Pick a type of plot which would effectively visualize different coffee grades for different countries. Don't forget your labels!"
   ]
  },
  {
   "cell_type": "code",
   "execution_count": null,
   "metadata": {},
   "outputs": [],
   "source": [
    "### TODO\n",
    "ax = ..."
   ]
  },
  {
   "cell_type": "code",
   "execution_count": 192,
   "metadata": {
    "scrolled": true
   },
   "outputs": [
    {
     "data": {
      "image/png": "[encoded data removed]",
      "text/plain": [
       "<Figure size 432x288 with 1 Axes>"
      ]
     },
     "metadata": {
      "needs_background": "light"
     },
     "output_type": "display_data"
    }
   ],
   "source": [
    "ax = sns.scatterplot(x='sweetness', y='uniformity', data=coffee_grades);\n",
    "plt.title('sweetness vs. uniformity scatterplot');"
   ]
  },
  {
   "cell_type": "code",
   "execution_count": null,
   "metadata": {},
   "outputs": [],
   "source": []
  },
  {
   "cell_type": "code",
   "execution_count": null,
   "metadata": {},
   "outputs": [],
   "source": []
  },
  {
   "cell_type": "code",
   "execution_count": null,
   "metadata": {},
   "outputs": [],
   "source": []
  }
 ],
 "metadata": {
  "kernelspec": {
   "display_name": "Python 3",
   "language": "python",
   "name": "python3"
  },
  "language_info": {
   "codemirror_mode": {
    "name": "ipython",
    "version": 3
   },
   "file_extension": ".py",
   "mimetype": "text/x-python",
   "name": "python",
   "nbconvert_exporter": "python",
   "pygments_lexer": "ipython3",
   "version": "3.8.5"
  }
 },
 "nbformat": 4,
 "nbformat_minor": 4
}
