{
 "cells": [
  {
   "cell_type": "markdown",
   "metadata": {},
   "source": [
    "To navigate this directory, please do the following:\n",
    "\n",
    "1) Click on File > Open... (in the top left of the toolbar above) \n",
    "\n",
    "2) Click on the numbered folder for the assignment you want to complete.\n",
    "\n",
    "3) Click on the .ipynb file in the folder to launch the assignment. "
   ]
  }
 ],
 "metadata": {
  "kernelspec": {
   "display_name": "Python 3",
   "language": "python",
   "name": "python3"
  },
  "language_info": {
   "codemirror_mode": {
    "name": "ipython",
    "version": 3
   },
   "file_extension": ".py",
   "mimetype": "text/x-python",
   "name": "python",
   "nbconvert_exporter": "python",
   "pygments_lexer": "ipython3",
   "version": "3.7.6"
  }
 },
 "nbformat": 4,
 "nbformat_minor": 4
}
